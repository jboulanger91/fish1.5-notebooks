{
 "cells": [
  {
   "cell_type": "markdown",
   "id": "e10b5885",
   "metadata": {},
   "source": [
    "# Download cell morphologies and connectivity \n",
    "\n",
    "This notebook uses CAVE to retrieve connectivity and cloudvolume to retrieve cell meshes for plotting and analysis.  \n",
    "Make sure you have CAVE installed and obtained a token for this dataset. This token will also work for cloudvolume.   "
   ]
  },
  {
   "cell_type": "code",
   "execution_count": null,
   "id": "765103a9",
   "metadata": {
    "vscode": {
     "languageId": "plaintext"
    }
   },
   "outputs": [],
   "source": [
    "## Setup\n",
    "from caveclient import CAVEclient\n",
    "import cloudvolume as cv\n",
    "\n",
    "CLOUD_VOLUME_URL = \"graphene://https://data.proofreading.zetta.ai/segmentation/api/v1/lichtman_zebrafish_hindbrain_001\"\n",
    "DATASTACK_NAME = \"lichtman_zebrafish_hindbrain\"\n",
    "SERVER_ADDRESS = \"https://proofreading.zetta.ai\"\n",
    "\n",
    "# Initialize CloudVolume and CAVEclient\n",
    "vol = cv.CloudVolume(CLOUD_VOLUME_URL, use_https=True, progress=False)\n",
    "client = CAVEclient(datastack_name=DATASTACK_NAME, server_address=SERVER_ADDRESS)"
   ]
  },
  {
   "cell_type": "code",
   "execution_count": null,
   "id": "b1369f0c",
   "metadata": {
    "vscode": {
     "languageId": "plaintext"
    }
   },
   "outputs": [],
   "source": []
  }
 ],
 "metadata": {
  "kernelspec": {
   "display_name": "Python 3",
   "language": "python",
   "name": "python3"
  },
  "language_info": {
   "codemirror_mode": {
    "name": "ipython",
    "version": 3
   },
   "file_extension": ".py",
   "mimetype": "text/x-python",
   "name": "python",
   "nbconvert_exporter": "python",
   "pygments_lexer": "ipython3",
   "version": "3.11.4"
  }
 },
 "nbformat": 4,
 "nbformat_minor": 5
}
